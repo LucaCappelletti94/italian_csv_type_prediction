{
 "cells": [
  {
   "cell_type": "code",
   "execution_count": 33,
   "metadata": {},
   "outputs": [],
   "source": [
    "import compress_json\n",
    "from italian_csv_type_prediction.simple_types.IVA_type import IVAType"
   ]
  },
  {
   "cell_type": "code",
   "execution_count": null,
   "metadata": {},
   "outputs": [],
   "source": []
  },
  {
   "cell_type": "code",
   "execution_count": 39,
   "metadata": {},
   "outputs": [],
   "source": [
    "path = \"Boolean\""
   ]
  },
  {
   "cell_type": "code",
   "execution_count": 41,
   "metadata": {},
   "outputs": [],
   "source": [
    "data = compress_json.load(f\"italian_csv_type_prediction/datasets/{path}.json.gz\")\n",
    "compress_json.dump(data, f\"italian_csv_type_prediction/datasets/{path}.json\")"
   ]
  },
  {
   "cell_type": "code",
   "execution_count": 43,
   "metadata": {},
   "outputs": [],
   "source": [
    "data = compress_json.load(f\"italian_csv_type_prediction/datasets/{path}.json\")\n",
    "compress_json.dump(data, f\"italian_csv_type_prediction/datasets/{path}.json.gz\")"
   ]
  },
  {
   "cell_type": "code",
   "execution_count": 31,
   "metadata": {},
   "outputs": [
    {
     "data": {
      "text/plain": [
       "['',\n",
       " 'Nan',\n",
       " 'NA',\n",
       " None,\n",
       " '#RIF!',\n",
       " '-',\n",
       " '.',\n",
       " '_',\n",
       " '/',\n",
       " ' ',\n",
       " '0',\n",
       " '\\n',\n",
       " '\\r',\n",
       " '?',\n",
       " 'NaN']"
      ]
     },
     "execution_count": 31,
     "metadata": {},
     "output_type": "execute_result"
    }
   ],
   "source": [
    "data"
   ]
  },
  {
   "cell_type": "code",
   "execution_count": 7,
   "metadata": {},
   "outputs": [],
   "source": [
    "compress_json.dump(data, \"italian_csv_type_prediction/datasets/nan.json.gz\")"
   ]
  }
 ],
 "metadata": {
  "kernelspec": {
   "display_name": "Python 3",
   "language": "python",
   "name": "python3"
  },
  "language_info": {
   "codemirror_mode": {
    "name": "ipython",
    "version": 3
   },
   "file_extension": ".py",
   "mimetype": "text/x-python",
   "name": "python",
   "nbconvert_exporter": "python",
   "pygments_lexer": "ipython3",
   "version": "3.7.4"
  }
 },
 "nbformat": 4,
 "nbformat_minor": 2
}
