{
 "cells": [
  {
   "cell_type": "code",
   "execution_count": 41,
   "metadata": {},
   "outputs": [],
   "source": [
    "import compress_json"
   ]
  },
  {
   "cell_type": "code",
   "execution_count": 42,
   "metadata": {},
   "outputs": [],
   "source": [
    "path = \"CAP\""
   ]
  },
  {
   "cell_type": "code",
   "execution_count": 43,
   "metadata": {},
   "outputs": [],
   "source": [
    "invalid_zip_codes = [\n",
    "    \"71120\", \"98120\", \"10150\", \"84141\", \"70136\", \"10168\",\n",
    "    \"10167\", \"10110\", \"00111\", \"37112\", \"09132\", \"57120\",\n",
    "    \"47040\", \"20164\", \"10175\", \"70150\", \"70145\", \"35118\",\n",
    "    \"06161\", \"25110\", \"95190\", \"95117\", \"98130\", \"95116\",\n",
    "    \"20150\", \"28923\", \"90162\", \"84138\", \"80116\", \"84147\",\n",
    "    \"84112\", \"80153\", \"84143\", \"90114\", \"84154\", \"80148\",\n",
    "    \"84118\", \"20116\", \"37114\", \"37113\", \"37194\", \"70184\",\n",
    "    \"10165\", \"10157\", \"00116\", \"15127\", \"16179\", \"16196\",\n",
    "    \"89148\", \"00105\", \"10120\", \"10178\", \"89180\", \"10195\",\n",
    "    \"06187\", \"74125\", \"10163\", \"06159\", \"37116\", \"37146\",\n",
    "    \"10159\", \"90116\", \"00110\", \"00130\", \"57190\", \"06162\",\n",
    "    \"10115\", \"06151\", \"89108\", \"30188\", \"06155\"\n",
    "]"
   ]
  },
  {
   "cell_type": "code",
   "execution_count": 44,
   "metadata": {},
   "outputs": [],
   "source": [
    "compress_json.dump(\n",
    "    list(set(compress_json.load(f\"italian_csv_type_prediction/datasets/{path}.json\")) - set(invalid_zip_codes)),\n",
    "    f\"italian_csv_type_prediction/datasets/{path}.json.gz\"\n",
    ")"
   ]
  },
  {
   "cell_type": "code",
   "execution_count": 19,
   "metadata": {},
   "outputs": [],
   "source": [
    "compress_json.dump(\n",
    "    compress_json.load(f\"italian_csv_type_prediction/datasets/{path}.json.gz\"),\n",
    "    f\"italian_csv_type_prediction/datasets/{path}.json\"\n",
    ")"
   ]
  },
  {
   "cell_type": "code",
   "execution_count": 13,
   "metadata": {},
   "outputs": [],
   "source": [
    "data = compress_json.load(f\"italian_csv_type_prediction/datasets/{path}.json.gz\")"
   ]
  },
  {
   "cell_type": "code",
   "execution_count": 15,
   "metadata": {},
   "outputs": [],
   "source": [
    "data += [\n",
    "    e.replace(\"J\", \"I\")\n",
    "    for e in data\n",
    "    if \"J\" in e\n",
    "]"
   ]
  },
  {
   "cell_type": "code",
   "execution_count": 112,
   "metadata": {},
   "outputs": [],
   "source": [
    "names_url = \"https://github.com/LucaCappelletti94/random_italian_person/raw/master/random_italian_person/datasets/names.csv\"\n",
    "surnames_url = \"https://github.com/LucaCappelletti94/random_italian_person/raw/master/random_italian_person/datasets/surnames.csv\"\n",
    "names = pd.read_csv(names_url).name.str.lower().tolist()\n",
    "surnames = pd.read_csv(surnames_url).surname.str.lower().tolist()"
   ]
  },
  {
   "cell_type": "code",
   "execution_count": 10,
   "metadata": {},
   "outputs": [],
   "source": [
    "from italian_csv_type_prediction.simple_types import CAPType"
   ]
  },
  {
   "cell_type": "code",
   "execution_count": 14,
   "metadata": {},
   "outputs": [
    {
     "data": {
      "text/plain": [
       "'03011'"
      ]
     },
     "execution_count": 14,
     "metadata": {},
     "output_type": "execute_result"
    }
   ],
   "source": [
    "CAPType().convert(3011.0)"
   ]
  },
  {
   "cell_type": "code",
   "execution_count": null,
   "metadata": {},
   "outputs": [],
   "source": []
  }
 ],
 "metadata": {
  "kernelspec": {
   "display_name": "Python 3",
   "language": "python",
   "name": "python3"
  },
  "language_info": {
   "codemirror_mode": {
    "name": "ipython",
    "version": 3
   },
   "file_extension": ".py",
   "mimetype": "text/x-python",
   "name": "python",
   "nbconvert_exporter": "python",
   "pygments_lexer": "ipython3",
   "version": "3.7.6"
  }
 },
 "nbformat": 4,
 "nbformat_minor": 2
}
