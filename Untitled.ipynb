{
 "cells": [
  {
   "cell_type": "code",
   "execution_count": 3,
   "metadata": {},
   "outputs": [],
   "source": [
    "import compress_json"
   ]
  },
  {
   "cell_type": "code",
   "execution_count": 6,
   "metadata": {},
   "outputs": [],
   "source": [
    "path = \"Plate\""
   ]
  },
  {
   "cell_type": "code",
   "execution_count": 7,
   "metadata": {},
   "outputs": [],
   "source": [
    "compress_json.dump(\n",
    "    compress_json.load(f\"italian_csv_type_prediction/datasets/{path}.json\"),\n",
    "    f\"italian_csv_type_prediction/datasets/{path}.json.gz\"\n",
    ")"
   ]
  },
  {
   "cell_type": "code",
   "execution_count": 112,
   "metadata": {},
   "outputs": [],
   "source": [
    "names_url = \"https://github.com/LucaCappelletti94/random_italian_person/raw/master/random_italian_person/datasets/names.csv\"\n",
    "surnames_url = \"https://github.com/LucaCappelletti94/random_italian_person/raw/master/random_italian_person/datasets/surnames.csv\"\n",
    "names = pd.read_csv(names_url).name.str.lower().tolist()\n",
    "surnames = pd.read_csv(surnames_url).surname.str.lower().tolist()"
   ]
  }
 ],
 "metadata": {
  "kernelspec": {
   "display_name": "Python 3",
   "language": "python",
   "name": "python3"
  },
  "language_info": {
   "codemirror_mode": {
    "name": "ipython",
    "version": 3
   },
   "file_extension": ".py",
   "mimetype": "text/x-python",
   "name": "python",
   "nbconvert_exporter": "python",
   "pygments_lexer": "ipython3",
   "version": "3.7.6"
  }
 },
 "nbformat": 4,
 "nbformat_minor": 2
}
