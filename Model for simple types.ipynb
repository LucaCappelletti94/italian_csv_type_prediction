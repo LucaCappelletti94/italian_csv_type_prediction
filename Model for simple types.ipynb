{
 "cells": [
  {
   "cell_type": "code",
   "execution_count": 1,
   "metadata": {},
   "outputs": [],
   "source": [
    "from italian_csv_type_prediction.dataframe_generators import SimpleDatasetGenerator\n",
    "from italian_csv_type_prediction.models import TypePredictor\n",
    "from tqdm.auto import tqdm\n",
    "import pandas as pd\n",
    "import numpy as np\n",
    "from multiprocessing import Pool, cpu_count\n",
    "from sklearn.metrics import accuracy_score, balanced_accuracy_score"
   ]
  },
  {
   "cell_type": "code",
   "execution_count": 2,
   "metadata": {},
   "outputs": [],
   "source": [
    "def dataset_generation(number:int):\n",
    "    return SimpleDatasetGenerator().build(number, verbose=False)\n",
    "\n",
    "def _dataset_generation(args):\n",
    "    return dataset_generation(*args)\n",
    "\n",
    "def parallel_dataset_generation(number:int):\n",
    "    processes = cpu_count()*5\n",
    "    with Pool(cpu_count()) as p:\n",
    "        Xs, ys = list(zip(*tqdm(\n",
    "            p.imap(_dataset_generation, (\n",
    "                (number//processes, )\n",
    "                for _ in range(processes)\n",
    "            )),\n",
    "            total=processes,\n",
    "            leave=False\n",
    "        )))\n",
    "    return np.vstack(Xs), np.concatenate(ys)"
   ]
  },
  {
   "cell_type": "code",
   "execution_count": null,
   "metadata": {},
   "outputs": [
    {
     "data": {
      "application/vnd.jupyter.widget-view+json": {
       "model_id": "",
       "version_major": 2,
       "version_minor": 0
      },
      "text/plain": [
       "HBox(children=(IntProgress(value=0, max=60), HTML(value='')))"
      ]
     },
     "metadata": {},
     "output_type": "display_data"
    },
    {
     "name": "stdout",
     "output_type": "stream",
     "text": [
      "\r"
     ]
    },
    {
     "data": {
      "application/vnd.jupyter.widget-view+json": {
       "model_id": "426d901243fc4e289117e4be80dd2984",
       "version_major": 2,
       "version_minor": 0
      },
      "text/plain": [
       "HBox(children=(IntProgress(value=0, max=60), HTML(value='')))"
      ]
     },
     "metadata": {},
     "output_type": "display_data"
    }
   ],
   "source": [
    "x_train, y_train = parallel_dataset_generation(1000)\n",
    "x_test, y_test = parallel_dataset_generation(1000)"
   ]
  },
  {
   "cell_type": "code",
   "execution_count": null,
   "metadata": {},
   "outputs": [],
   "source": [
    "model = TypePredictor()\n",
    "\n",
    "model.fit(x_train, y_train)"
   ]
  },
  {
   "cell_type": "code",
   "execution_count": null,
   "metadata": {},
   "outputs": [],
   "source": [
    "y_pred = model._model.predict(x_test)"
   ]
  },
  {
   "cell_type": "code",
   "execution_count": null,
   "metadata": {},
   "outputs": [],
   "source": [
    "accuracy_score(y_test, y_pred), balanced_accuracy_score(y_test, y_pred)"
   ]
  },
  {
   "cell_type": "code",
   "execution_count": null,
   "metadata": {},
   "outputs": [],
   "source": [
    "mask = y_test != y_pred\n",
    "\n",
    "true_labels = model._embedder._encoder.inverse_transform(y_pred[mask])\n",
    "predicted_labels = model._embedder._encoder.inverse_transform(y_test[mask])\n",
    "\n",
    "for true, pred in zip(true_labels, predicted_labels):\n",
    "    print(true, pred)"
   ]
  }
 ],
 "metadata": {
  "kernelspec": {
   "display_name": "Python 3",
   "language": "python",
   "name": "python3"
  },
  "language_info": {
   "codemirror_mode": {
    "name": "ipython",
    "version": 3
   },
   "file_extension": ".py",
   "mimetype": "text/x-python",
   "name": "python",
   "nbconvert_exporter": "python",
   "pygments_lexer": "ipython3",
   "version": "3.7.4"
  }
 },
 "nbformat": 4,
 "nbformat_minor": 2
}
