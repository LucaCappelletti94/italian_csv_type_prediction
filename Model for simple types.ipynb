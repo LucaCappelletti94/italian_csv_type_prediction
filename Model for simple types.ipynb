{
 "cells": [
  {
   "cell_type": "code",
   "execution_count": 1,
   "metadata": {},
   "outputs": [],
   "source": [
    "from italian_csv_type_prediction.dataframe_generators import SimpleDatasetGenerator\n",
    "from italian_csv_type_prediction.models import TypePredictor\n",
    "from tqdm.auto import tqdm\n",
    "import pandas as pd\n",
    "import numpy as np\n",
    "from multiprocessing import Pool, cpu_count\n",
    "from sklearn.metrics import accuracy_score, balanced_accuracy_score"
   ]
  },
  {
   "cell_type": "code",
   "execution_count": 2,
   "metadata": {},
   "outputs": [],
   "source": [
    "def dataset_generation(number:int):\n",
    "    return SimpleDatasetGenerator(verbose=False).build(number)\n",
    "\n",
    "def _dataset_generation(args):\n",
    "    return dataset_generation(*args)\n",
    "\n",
    "def parallel_dataset_generation(number:int):\n",
    "    processes = min(cpu_count(), number)\n",
    "    with Pool(cpu_count()) as p:\n",
    "        Xs, ys = list(zip(*tqdm(\n",
    "            p.imap(_dataset_generation, (\n",
    "                (number//processes, )\n",
    "                for _ in range(processes)\n",
    "            )),\n",
    "            desc=\"Creating dataset\",\n",
    "            total=processes,\n",
    "            leave=False\n",
    "        )))\n",
    "    return np.vstack(Xs), np.concatenate(ys)"
   ]
  },
  {
   "cell_type": "code",
   "execution_count": null,
   "metadata": {},
   "outputs": [
    {
     "name": "stderr",
     "output_type": "stream",
     "text": [
      "Widget Javascript not detected.  It may not be installed or enabled properly.\n"
     ]
    },
    {
     "data": {
      "application/vnd.jupyter.widget-view+json": {
       "model_id": "7b65e1121b9348aeac63cbb92d752a45"
      }
     },
     "metadata": {},
     "output_type": "display_data"
    }
   ],
   "source": [
    "x_train, y_train = parallel_dataset_generation(10000)\n",
    "x_test, y_test = parallel_dataset_generation(1000)"
   ]
  },
  {
   "cell_type": "code",
   "execution_count": null,
   "metadata": {},
   "outputs": [],
   "source": [
    "model = TypePredictor()\n",
    "\n",
    "model.fit(x_train, y_train)"
   ]
  },
  {
   "cell_type": "code",
   "execution_count": null,
   "metadata": {},
   "outputs": [],
   "source": [
    "y_pred = model._model.predict(x_test)\n",
    "y_train_pred = model._model.predict(x_train)"
   ]
  },
  {
   "cell_type": "code",
   "execution_count": null,
   "metadata": {},
   "outputs": [],
   "source": [
    "accuracy_score(y_test, y_pred), balanced_accuracy_score(y_test, y_pred)"
   ]
  },
  {
   "cell_type": "code",
   "execution_count": null,
   "metadata": {},
   "outputs": [],
   "source": [
    "accuracy_score(y_train, y_train_pred), balanced_accuracy_score(y_train, y_train_pred)"
   ]
  },
  {
   "cell_type": "code",
   "execution_count": null,
   "metadata": {},
   "outputs": [],
   "source": [
    "X, y = SimpleDatasetGenerator().generate_simple_dataframe(max_rows=10)"
   ]
  },
  {
   "cell_type": "code",
   "execution_count": null,
   "metadata": {},
   "outputs": [],
   "source": [
    "y"
   ]
  },
  {
   "cell_type": "code",
   "execution_count": null,
   "metadata": {},
   "outputs": [],
   "source": [
    "model.predict_dataframe(X)"
   ]
  },
  {
   "cell_type": "code",
   "execution_count": null,
   "metadata": {
    "scrolled": true
   },
   "outputs": [],
   "source": [
    "from collections import Counter\n",
    "\n",
    "mask = y_test != y_pred\n",
    "\n",
    "true_labels = model._embedder._encoder.inverse_transform(y_test[mask])\n",
    "predicted_labels = model._embedder._encoder.inverse_transform(y_pred[mask])\n",
    "\n",
    "Counter(zip(true_labels, predicted_labels))"
   ]
  }
 ],
 "metadata": {
  "kernelspec": {
   "display_name": "Python 3",
   "language": "python",
   "name": "python3"
  },
  "language_info": {
   "codemirror_mode": {
    "name": "ipython",
    "version": 3
   },
   "file_extension": ".py",
   "mimetype": "text/x-python",
   "name": "python",
   "nbconvert_exporter": "python",
   "pygments_lexer": "ipython3",
   "version": "3.7.4"
  }
 },
 "nbformat": 4,
 "nbformat_minor": 2
}
